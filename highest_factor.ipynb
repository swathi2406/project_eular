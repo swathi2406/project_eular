{
  "nbformat": 4,
  "nbformat_minor": 0,
  "metadata": {
    "colab": {
      "provenance": [],
      "authorship_tag": "ABX9TyPtyCoAKeq8b6ADkxK0YvxR",
      "include_colab_link": true
    },
    "kernelspec": {
      "name": "python3",
      "display_name": "Python 3"
    },
    "language_info": {
      "name": "python"
    }
  },
  "cells": [
    {
      "cell_type": "markdown",
      "metadata": {
        "id": "view-in-github",
        "colab_type": "text"
      },
      "source": [
        "<a href=\"https://colab.research.google.com/github/swathi2406/project_eular/blob/main/highest_factor.ipynb\" target=\"_parent\"><img src=\"https://colab.research.google.com/assets/colab-badge.svg\" alt=\"Open In Colab\"/></a>"
      ]
    },
    {
      "cell_type": "code",
      "execution_count": 144,
      "metadata": {
        "colab": {
          "base_uri": "https://localhost:8080/"
        },
        "id": "CJNkhqRwq7Cv",
        "outputId": "4ba25218-6825-4230-c812-942f23892428"
      },
      "outputs": [
        {
          "name": "stdout",
          "output_type": "stream",
          "text": [
            "789561864\n"
          ]
        }
      ],
      "source": [
        "from itertools import combinations\n",
        "from array import array\n",
        "\n",
        "n = input()\n",
        "arr_digits = []\n",
        "factors = []\n",
        "def check_prime(n):\n",
        "  prime_number = 0\n",
        "  ch = 0\n",
        "\n",
        "  for i in range(2,n):\n",
        "    if n%i !=0:\n",
        "      ch = ch+1\n",
        "  if ch == n -2:\n",
        "    prime_number=n\n",
        "  return prime_number\n",
        "\n",
        "\n",
        "def digit_sum(arr_digits):\n",
        "  sum_arr = 0\n",
        "  len_digit = len(arr_digits)\n",
        "  for i in range(0,len_digit):\n",
        "    sum_arr = sum_arr + arr_digits[i]\n",
        "  return sum_arr\n",
        "\n"
      ]
    },
    {
      "cell_type": "code",
      "source": [
        "for i in n:\n",
        "  arr_digits.append(int(i))\n",
        "arr_digits\n",
        "\n"
      ],
      "metadata": {
        "colab": {
          "base_uri": "https://localhost:8080/"
        },
        "id": "-zRkEh5dsN5K",
        "outputId": "64d82828-66e3-45f8-d376-57d3ee7a9839"
      },
      "execution_count": 145,
      "outputs": [
        {
          "output_type": "execute_result",
          "data": {
            "text/plain": [
              "[7, 8, 9, 5, 6, 1, 8, 6, 4]"
            ]
          },
          "metadata": {},
          "execution_count": 145
        }
      ]
    },
    {
      "cell_type": "code",
      "source": [
        "arr_prime = []\n",
        "combination_arr = []\n",
        "\n",
        "for numbers in range(1,int(n)):\n",
        "  # print(numbers)\n",
        "    if int(n)%numbers == 0:\n",
        "    # print(numbers)\n",
        "      number = check_prime(numbers)\n",
        "      if number!=0:\n",
        "        arr_prime.append(number)\n",
        "for i in range(1,len(arr_digits)):\n",
        "  comb = combinations(arr_digits,i)\n",
        "  for c in comb:\n",
        "    num_ = int(''.join(map(str, c)))\n",
        "    # print(num)\n",
        "    if num_ !=0 and num_ != 00 and int(n)%num_ == 0:\n",
        "      combination_arr.append(int(''.join(map(str, c))))\n",
        "    sum_ = digit_sum(c)\n",
        "    if sum_ !=0 and sum_ != 00 and int(n)%sum_ == 0:\n",
        "      prime =check_prime(sum_)\n",
        "      if prime !=0 and prime not in arr_prime and prime !=1:\n",
        "        arr_prime.append(prime)\n",
        "\n",
        "for i in combination_arr:\n",
        "  prime =check_prime(i)\n",
        "  if prime !=0 and prime not in arr_prime and prime !=1 :\n",
        "    arr_prime.append(prime)\n",
        "\n",
        "\n",
        "arr_prime"
      ],
      "metadata": {
        "colab": {
          "base_uri": "https://localhost:8080/",
          "height": 366
        },
        "id": "TQ1MVuSBu_zy",
        "outputId": "17696e48-2f8a-4f8a-b742-f736f33c2c85"
      },
      "execution_count": 146,
      "outputs": [
        {
          "output_type": "error",
          "ename": "KeyboardInterrupt",
          "evalue": "",
          "traceback": [
            "\u001b[0;31m---------------------------------------------------------------------------\u001b[0m",
            "\u001b[0;31mKeyboardInterrupt\u001b[0m                         Traceback (most recent call last)",
            "\u001b[0;32m<ipython-input-146-b3ae06e437ba>\u001b[0m in \u001b[0;36m<cell line: 4>\u001b[0;34m()\u001b[0m\n\u001b[1;32m      6\u001b[0m     \u001b[0;32mif\u001b[0m \u001b[0mint\u001b[0m\u001b[0;34m(\u001b[0m\u001b[0mn\u001b[0m\u001b[0;34m)\u001b[0m\u001b[0;34m%\u001b[0m\u001b[0mnumbers\u001b[0m \u001b[0;34m==\u001b[0m \u001b[0;36m0\u001b[0m\u001b[0;34m:\u001b[0m\u001b[0;34m\u001b[0m\u001b[0;34m\u001b[0m\u001b[0m\n\u001b[1;32m      7\u001b[0m     \u001b[0;31m# print(numbers)\u001b[0m\u001b[0;34m\u001b[0m\u001b[0;34m\u001b[0m\u001b[0m\n\u001b[0;32m----> 8\u001b[0;31m       \u001b[0mnumber\u001b[0m \u001b[0;34m=\u001b[0m \u001b[0mcheck_prime\u001b[0m\u001b[0;34m(\u001b[0m\u001b[0mnumbers\u001b[0m\u001b[0;34m)\u001b[0m\u001b[0;34m\u001b[0m\u001b[0;34m\u001b[0m\u001b[0m\n\u001b[0m\u001b[1;32m      9\u001b[0m       \u001b[0;32mif\u001b[0m \u001b[0mnumber\u001b[0m\u001b[0;34m!=\u001b[0m\u001b[0;36m0\u001b[0m\u001b[0;34m:\u001b[0m\u001b[0;34m\u001b[0m\u001b[0;34m\u001b[0m\u001b[0m\n\u001b[1;32m     10\u001b[0m         \u001b[0marr_prime\u001b[0m\u001b[0;34m.\u001b[0m\u001b[0mappend\u001b[0m\u001b[0;34m(\u001b[0m\u001b[0mnumber\u001b[0m\u001b[0;34m)\u001b[0m\u001b[0;34m\u001b[0m\u001b[0;34m\u001b[0m\u001b[0m\n",
            "\u001b[0;32m<ipython-input-144-64e8c915972d>\u001b[0m in \u001b[0;36mcheck_prime\u001b[0;34m(n)\u001b[0m\n\u001b[1;32m      1\u001b[0m \u001b[0;32mfrom\u001b[0m \u001b[0mitertools\u001b[0m \u001b[0;32mimport\u001b[0m \u001b[0mcombinations\u001b[0m\u001b[0;34m\u001b[0m\u001b[0;34m\u001b[0m\u001b[0m\n\u001b[1;32m      2\u001b[0m \u001b[0;32mfrom\u001b[0m \u001b[0marray\u001b[0m \u001b[0;32mimport\u001b[0m \u001b[0marray\u001b[0m\u001b[0;34m\u001b[0m\u001b[0;34m\u001b[0m\u001b[0m\n\u001b[1;32m      3\u001b[0m \u001b[0;34m\u001b[0m\u001b[0m\n\u001b[1;32m      4\u001b[0m \u001b[0mn\u001b[0m \u001b[0;34m=\u001b[0m \u001b[0minput\u001b[0m\u001b[0;34m(\u001b[0m\u001b[0;34m)\u001b[0m\u001b[0;34m\u001b[0m\u001b[0;34m\u001b[0m\u001b[0m\n\u001b[1;32m      5\u001b[0m \u001b[0marr_digits\u001b[0m \u001b[0;34m=\u001b[0m \u001b[0;34m[\u001b[0m\u001b[0;34m]\u001b[0m\u001b[0;34m\u001b[0m\u001b[0;34m\u001b[0m\u001b[0m\n",
            "\u001b[0;31mKeyboardInterrupt\u001b[0m: "
          ]
        }
      ]
    },
    {
      "cell_type": "code",
      "source": [],
      "metadata": {
        "id": "yVTS23G-omLW"
      },
      "execution_count": null,
      "outputs": []
    }
  ]
}