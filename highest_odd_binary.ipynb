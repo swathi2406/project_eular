{
  "nbformat": 4,
  "nbformat_minor": 0,
  "metadata": {
    "colab": {
      "provenance": [],
      "authorship_tag": "ABX9TyP/Wz9oKPFAgaUAblxqqGgG",
      "include_colab_link": true
    },
    "kernelspec": {
      "name": "python3",
      "display_name": "Python 3"
    },
    "language_info": {
      "name": "python"
    }
  },
  "cells": [
    {
      "cell_type": "markdown",
      "metadata": {
        "id": "view-in-github",
        "colab_type": "text"
      },
      "source": [
        "<a href=\"https://colab.research.google.com/github/swathi2406/project_eular/blob/main/highest_odd_binary.ipynb\" target=\"_parent\"><img src=\"https://colab.research.google.com/assets/colab-badge.svg\" alt=\"Open In Colab\"/></a>"
      ]
    },
    {
      "cell_type": "code",
      "execution_count": 13,
      "metadata": {
        "id": "cOilINcUv-fr"
      },
      "outputs": [],
      "source": [
        "from collections import Counter"
      ]
    },
    {
      "cell_type": "code",
      "source": [
        "s = input()\n",
        "x = Counter(s)\n",
        "print(x)"
      ],
      "metadata": {
        "colab": {
          "base_uri": "https://localhost:8080/"
        },
        "id": "oIifpe3exZOM",
        "outputId": "c705e78d-1a42-48ea-90f7-70cae6b4ccb3"
      },
      "execution_count": 16,
      "outputs": [
        {
          "output_type": "stream",
          "name": "stdout",
          "text": [
            "0110\n",
            "Counter({'0': 2, '1': 2})\n"
          ]
        }
      ]
    },
    {
      "cell_type": "code",
      "source": [
        "class Solution:\n",
        "    def maximumOddBinaryNumber(self, s: str) -> str:\n",
        "      c = Counter(s)\n",
        "      for i in c:\n",
        "        print(c[i])\n",
        "        if i=='1' and c['1'] == 1:\n",
        "          sr ='0'*c['0'] + '1'\n",
        "          print(sr)\n",
        "        else:\n",
        "          sr = '1'* (c['1']-1) + '0' * c['0'] + '1'\n",
        "      return sr\n",
        "S = Solution()\n",
        "S.maximumOddBinaryNumber(\"010\")"
      ],
      "metadata": {
        "colab": {
          "base_uri": "https://localhost:8080/",
          "height": 88
        },
        "id": "BOX4PFEhzNG5",
        "outputId": "2f8ac2e7-0395-4155-cc2d-9f4bbdfddce3"
      },
      "execution_count": 37,
      "outputs": [
        {
          "output_type": "stream",
          "name": "stdout",
          "text": [
            "2\n",
            "1\n",
            "001\n"
          ]
        },
        {
          "output_type": "execute_result",
          "data": {
            "text/plain": [
              "'010'"
            ],
            "application/vnd.google.colaboratory.intrinsic+json": {
              "type": "string"
            }
          },
          "metadata": {},
          "execution_count": 37
        }
      ]
    },
    {
      "cell_type": "code",
      "source": [],
      "metadata": {
        "id": "afBHm6SxzxF6"
      },
      "execution_count": null,
      "outputs": []
    }
  ]
}